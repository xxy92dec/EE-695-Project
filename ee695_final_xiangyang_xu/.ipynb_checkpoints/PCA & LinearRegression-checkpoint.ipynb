{
 "cells": [
  {
   "cell_type": "code",
   "execution_count": 165,
   "metadata": {},
   "outputs": [],
   "source": [
    "import pandas as pd\n",
    "import numpy as np\n",
    "from sklearn.decomposition import PCA\n",
    "from sklearn.decomposition import IncrementalPCA\n",
    "from sklearn import decomposition\n",
    "import matplotlib.pyplot as plt\n",
    "from numpy import genfromtxt\n",
    "from sklearn.linear_model import LinearRegression"
   ]
  },
  {
   "cell_type": "code",
   "execution_count": 176,
   "metadata": {},
   "outputs": [],
   "source": [
    "def PCAdata(file, accuracy):\n",
    "    df = pd.read_csv(file, index_col = 0)\n",
    "    y = df.Life_expectancy\n",
    "    X = df.drop('Life_expectancy', axis=1)   \n",
    "    pca = PCA()\n",
    "    pca.fit(X)\n",
    "    num = 0\n",
    "    count = 1\n",
    "    countlist = []\n",
    "    valuelist = []\n",
    "    for i in range(len(pca.explained_variance_ratio_)):\n",
    "        num += pca.explained_variance_ratio_[i]\n",
    "        count += 1\n",
    "        if num >= accuracy:\n",
    "            print(count,'principal components account for 99% of the covariance matrix')   \n",
    "            break\n",
    "\n",
    "    num = 0\n",
    "    count = 1\n",
    "    for i in range(len(pca.explained_variance_ratio_)):\n",
    "        num += pca.explained_variance_ratio_[i]\n",
    "        valuelist.append(num)\n",
    "        countlist.append(count)\n",
    "        count +=1\n",
    "        \n",
    "    pca = decomposition.PCA(n_components=3)\n",
    "    pc = pca.fit_transform(X)\n",
    "    pclist = pc.tolist()\n",
    "    pc1 = []\n",
    "    pc2 = []\n",
    "    pc3 = []\n",
    "    for i in range(len(pclist)):\n",
    "        pc1.append(pclist[i][0])\n",
    "        pc2.append(pclist[i][1])\n",
    "        pc3.append(pclist[i][2])\n",
    "    PC = []\n",
    "    for i in range(len(pclist)):\n",
    "        PC.append([])\n",
    "        PC[i].append(pc1[i])\n",
    "        PC[i].append(pc2[i])\n",
    "        PC[i].append(pc3[i])\n",
    "    X = np.array(PC)\n",
    "    y = y.to_numpy()\n",
    "    return X,y"
   ]
  },
  {
   "cell_type": "code",
   "execution_count": 177,
   "metadata": {},
   "outputs": [
    {
     "name": "stdout",
     "output_type": "stream",
     "text": [
      "3 principal components account for 99% of the covariance matrix\n",
      "3 principal components account for 99% of the covariance matrix\n"
     ]
    }
   ],
   "source": [
    "TrainX, Trainy = PCAdata('Train.csv', 0.99)\n",
    "TestX, Testy = PCAdata('Test.csv', 0.99)"
   ]
  },
  {
   "cell_type": "code",
   "execution_count": 197,
   "metadata": {},
   "outputs": [
    {
     "name": "stdout",
     "output_type": "stream",
     "text": [
      "Average error at life expentancy is 2.2378532907329904 years\n"
     ]
    }
   ],
   "source": [
    "reg = LinearRegression().fit(TrainX, Trainy)\n",
    "Linear_para = reg.coef_\n",
    "Predict = reg.predict(TestX)\n",
    "errorlist = []\n",
    "error = 0\n",
    "count = 0\n",
    "\n",
    "for i in range(len(Testy)):\n",
    "    count += 1\n",
    "    True_num = Testy[i]\n",
    "    Cal_num = Predict[i]\n",
    "    Diff = Cal_num - True_num\n",
    "    absDiff = abs(Cal_num - True_num)\n",
    "    errorlist.append(Diff)\n",
    "    error += absDiff\n",
    "\n",
    "print('Average error at life expentancy is', error/count,'years')"
   ]
  },
  {
   "cell_type": "code",
   "execution_count": 196,
   "metadata": {},
   "outputs": [
    {
     "data": {
      "image/png": "[encoded data removed]",
      "text/plain": [
       "<Figure size 432x288 with 1 Axes>"
      ]
     },
     "metadata": {
      "needs_background": "light"
     },
     "output_type": "display_data"
    },
    {
     "data": {
      "image/png": "[encoded data removed]",
      "text/plain": [
       "<Figure size 432x288 with 1 Axes>"
      ]
     },
     "metadata": {
      "needs_background": "light"
     },
     "output_type": "display_data"
    }
   ],
   "source": [
    "plt.plot(Testy, 'r.')\n",
    "plt.plot(Predict, 'b.')\n",
    "plt.xlabel('Red - Test, Blue - Predict')\n",
    "plt.ylabel('Life Expentancy')\n",
    "plt.show()\n",
    "plt.plot(errorlist,'g.')\n",
    "plt.xlabel('Green - Error')\n",
    "plt.ylabel('Error')\n",
    "plt.show()"
   ]
  },
  {
   "cell_type": "code",
   "execution_count": null,
   "metadata": {},
   "outputs": [],
   "source": []
  }
 ],
 "metadata": {
  "kernelspec": {
   "display_name": "Python 3",
   "language": "python",
   "name": "python3"
  },
  "language_info": {
   "codemirror_mode": {
    "name": "ipython",
    "version": 3
   },
   "file_extension": ".py",
   "mimetype": "text/x-python",
   "name": "python",
   "nbconvert_exporter": "python",
   "pygments_lexer": "ipython3",
   "version": "3.7.4"
  }
 },
 "nbformat": 4,
 "nbformat_minor": 2
}
